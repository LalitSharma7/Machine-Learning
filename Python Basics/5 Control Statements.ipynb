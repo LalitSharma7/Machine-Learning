{
 "cells": [
  {
   "cell_type": "markdown",
   "metadata": {},
   "source": [
    "# Control Statements"
   ]
  },
  {
   "cell_type": "code",
   "execution_count": null,
   "metadata": {},
   "outputs": [],
   "source": [
    "Control statements help us to control the flow of execution"
   ]
  },
  {
   "cell_type": "code",
   "execution_count": null,
   "metadata": {},
   "outputs": [],
   "source": [
    "In one code structure, the execution can only go inside one BlockOfCode."
   ]
  },
  {
   "cell_type": "code",
   "execution_count": null,
   "metadata": {},
   "outputs": [],
   "source": [
    "The BLockOfCode should follow the below guidelines:\n",
    "1. We should have atleast one line in the BlockOfCode\n",
    "2. All the lines in the BlockOfCode should have some space (indentation) before it\n",
    "3. All the lines in the BlockOfCode should have the same space before it"
   ]
  },
  {
   "cell_type": "code",
   "execution_count": null,
   "metadata": {},
   "outputs": [],
   "source": [
    "syntax for creating the if statement\n",
    "\n",
    "if booleanValue:\n",
    "    #blockOfCode"
   ]
  },
  {
   "cell_type": "code",
   "execution_count": null,
   "metadata": {},
   "outputs": [],
   "source": [
    "syntax for creating the elif statement\n",
    "\n",
    "elif booleanValue:\n",
    "    #blockOfCode"
   ]
  },
  {
   "cell_type": "code",
   "execution_count": null,
   "metadata": {},
   "outputs": [],
   "source": [
    "syntax for creating the else statement\n",
    "else:\n",
    "    #blockOfCode"
   ]
  },
  {
   "cell_type": "markdown",
   "metadata": {},
   "source": [
    "1. if   -- a) The if statement is mandatory\n",
    "           b) The BlockOfCode in the if statement will only run, only if the booleanValue next to the if keyword is equal to True\n",
    "           c) The if statement can only be written once\n",
    "2. elif -- a) The elif statement is not mandatory\n",
    "           b) The BlockOfCode in the elif statement will only run, only if the booleanValue next to the elif keyword is equal\n",
    "           c) The elif statement can be written multiple times\n",
    "3. else -- a) The else statement is not mandatory\n",
    "           b) The BlockOfCode in the else statement will only run, only if the exeution has not gone in any of the previous BlocksOfCode\n",
    "           c) The else statement can only be written once"
   ]
  },
  {
   "cell_type": "code",
   "execution_count": 2,
   "metadata": {},
   "outputs": [],
   "source": [
    "room=\"kitchen\""
   ]
  },
  {
   "cell_type": "code",
   "execution_count": 3,
   "metadata": {},
   "outputs": [
    {
     "name": "stdout",
     "output_type": "stream",
     "text": [
      "I am in kitchen\n"
     ]
    }
   ],
   "source": [
    "if room==\"hall\":\n",
    "    print(\"I am in hall\")\n",
    "elif room==\"kitchen\":\n",
    "    print(\"I am in kitchen\")\n",
    "else:\n",
    "    print(\"I am in some other room\")\n"
   ]
  },
  {
   "cell_type": "code",
   "execution_count": null,
   "metadata": {},
   "outputs": [],
   "source": [
    "1. if   -- a) The if statement is mandatory\n",
    "           b) The BlockOfCode in the if statement will only run, only if the booleanValue next to the if keyword is equal to True\n",
    "           c) The if statement can only be written once\n",
    "2. elif -- a) The elif statement is not mandatory\n",
    "           b) The BlockOfCode in the elif statement will only run, only if the booleanValue next to the elif keyword is equal\n",
    "           c) The elif statement can be written multiple times\n",
    "3. else -- a) The else statement is not mandatory\n",
    "           b) The BlockOfCode in the else statement will only run, only if the exeution has not gone in any of the previous BlocksOfCode\n",
    "           c) The else statement can only be written once"
   ]
  },
  {
   "cell_type": "code",
   "execution_count": 4,
   "metadata": {},
   "outputs": [],
   "source": [
    "room=\"kitchen\""
   ]
  },
  {
   "cell_type": "code",
   "execution_count": 5,
   "metadata": {},
   "outputs": [],
   "source": [
    "if room==\"hall\":\n",
    "    print(\"I am in hall\")"
   ]
  },
  {
   "cell_type": "code",
   "execution_count": 7,
   "metadata": {},
   "outputs": [],
   "source": [
    "room=\"bedroom\""
   ]
  },
  {
   "cell_type": "code",
   "execution_count": 8,
   "metadata": {},
   "outputs": [
    {
     "name": "stdout",
     "output_type": "stream",
     "text": [
      "I am in bedroom 1\n"
     ]
    }
   ],
   "source": [
    "\n",
    "if room==\"hall\":\n",
    "    print(\"I am in hall\")\n",
    "elif room==\"bedroom\":\n",
    "    print(\"I am in bedroom 1\")\n",
    "elif room==\"bedroom\":\n",
    "    print(\"I am in bedroom 2\")\n",
    "else:\n",
    "    print(\"I am in some other room\")\n"
   ]
  },
  {
   "cell_type": "code",
   "execution_count": 10,
   "metadata": {},
   "outputs": [],
   "source": [
    "room=\"bathroom\""
   ]
  },
  {
   "cell_type": "code",
   "execution_count": 11,
   "metadata": {},
   "outputs": [
    {
     "name": "stdout",
     "output_type": "stream",
     "text": [
      "I am in some other room\n"
     ]
    }
   ],
   "source": [
    "\n",
    "if room==\"hall\":\n",
    "    print(\"I am in hall\")\n",
    "elif room==\"bedroom\":\n",
    "    print(\"I am in bedroom 1\")\n",
    "elif room==\"bedroom\":\n",
    "    print(\"I am in bedroom 2\")\n",
    "else:\n",
    "    print(\"I am in some other room\")\n"
   ]
  },
  {
   "cell_type": "code",
   "execution_count": 12,
   "metadata": {},
   "outputs": [],
   "source": [
    "room=\"bedroom\""
   ]
  },
  {
   "cell_type": "code",
   "execution_count": null,
   "metadata": {},
   "outputs": [],
   "source": [
    "1. if   -- a) The if statement is mandatory\n",
    "           b) The BlockOfCode in the if statement will only run, only if the booleanValue next to the if keyword is equal to True\n",
    "           c) The if statement can only be written once\n",
    "2. elif -- a) The elif statement is not mandatory\n",
    "           b) The BlockOfCode in the elif statement will only run, only if the booleanValue next to the elif keyword is equal\n",
    "           c) The elif statement can be written multiple times\n",
    "3. else -- a) The else statement is not mandatory\n",
    "           b) The BlockOfCode in the else statement will only run, only if the exeution has not gone in any of the previous BlocksOfCode\n",
    "           c) The else statement can only be written once"
   ]
  },
  {
   "cell_type": "code",
   "execution_count": 13,
   "metadata": {},
   "outputs": [
    {
     "name": "stdout",
     "output_type": "stream",
     "text": [
      "I am in bedroom 1\n",
      "I am in bedroom 2\n"
     ]
    }
   ],
   "source": [
    "if room==\"bedroom\":\n",
    "    print(\"I am in bedroom 1\")    \n",
    "if room==\"hall\":\n",
    "    print(\"I am in hall\")\n",
    "elif room==\"bedroom\":\n",
    "    print(\"I am in bedroom 2\")\n",
    "else:\n",
    "    print(\"I am in some other room\")\n"
   ]
  },
  {
   "cell_type": "code",
   "execution_count": null,
   "metadata": {},
   "outputs": [],
   "source": [
    "1. if   -- a) The if statement is mandatory\n",
    "           b) The BlockOfCode in the if statement will only run, only if the booleanValue next to the if keyword is equal to True\n",
    "           c) The if statement can only be written once\n",
    "2. elif -- a) The elif statement is not mandatory\n",
    "           b) The BlockOfCode in the elif statement will only run, only if the booleanValue next to the elif keyword is equal\n",
    "           c) The elif statement can be written multiple times\n",
    "3. else -- a) The else statement is not mandatory\n",
    "           b) The BlockOfCode in the else statement will only run, only if the exeution has not gone in any of the previous BlocksOfCode\n",
    "           c) The else statement can only be written once"
   ]
  },
  {
   "cell_type": "code",
   "execution_count": 14,
   "metadata": {},
   "outputs": [],
   "source": [
    "room=\"bedroom\"\n"
   ]
  },
  {
   "cell_type": "code",
   "execution_count": 15,
   "metadata": {},
   "outputs": [
    {
     "ename": "SyntaxError",
     "evalue": "invalid syntax (<ipython-input-15-02a8c91665d9>, line 7)",
     "output_type": "error",
     "traceback": [
      "\u001b[1;36m  File \u001b[1;32m\"<ipython-input-15-02a8c91665d9>\"\u001b[1;36m, line \u001b[1;32m7\u001b[0m\n\u001b[1;33m    else:\u001b[0m\n\u001b[1;37m    ^\u001b[0m\n\u001b[1;31mSyntaxError\u001b[0m\u001b[1;31m:\u001b[0m invalid syntax\n"
     ]
    }
   ],
   "source": [
    "if room==\"hall\":\n",
    "    print(\"I am in hall\")\n",
    "elif room==\"bedroom\":\n",
    "    print(\"I am in bedroom 2\")\n",
    "else:\n",
    "    print(\"I am in some other room\")\n",
    "else:\n",
    "    print(\"I am in some other house\")"
   ]
  },
  {
   "cell_type": "code",
   "execution_count": null,
   "metadata": {},
   "outputs": [],
   "source": []
  }
 ],
 "metadata": {
  "kernelspec": {
   "display_name": "Python 3",
   "language": "python",
   "name": "python3"
  },
  "language_info": {
   "codemirror_mode": {
    "name": "ipython",
    "version": 3
   },
   "file_extension": ".py",
   "mimetype": "text/x-python",
   "name": "python",
   "nbconvert_exporter": "python",
   "pygments_lexer": "ipython3",
   "version": "3.8.3"
  }
 },
 "nbformat": 4,
 "nbformat_minor": 4
}
